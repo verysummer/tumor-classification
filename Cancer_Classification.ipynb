{
 "cells": [
  {
   "cell_type": "markdown",
   "id": "cf56ddaf-01d2-4558-b506-42e544818010",
   "metadata": {},
   "source": [
    "# Breast Cancer Classification\n",
    "\n",
    "**Objective:** Classify tumors as benign or malignant\n",
    "\n",
    "**Data:** Wisconsin Breast Cancer Database https://www.kaggle.com/chongchong33/breast-cancer-wisconsin-classification/data \n",
    "\n",
    "### Information about the data set:\n",
    "\n",
    "**Features:**\n",
    "1. `id`: Sample code number id number\n",
    "2. `clump_thickness`: Clump Thickness 1-10\n",
    "3. `size_uniformity`: Uniformity of Cell Size 1-10\n",
    "4. `shape_uniformity`: Uniformity of Cell Shape 1-10\n",
    "5. `marginial_adhesion`: Marginal Adhesion 1-10\n",
    "6. `epithelial_size`: Single Epithelial Cell Size 1-10\n",
    "7. `bare_nucleoli`: Bare Nuclei 1-10\n",
    "8. `bland_chromatin`: Bland Chromatin 1-10\n",
    "9. `normal_nucleoli`: Normal Nucleoli 1-10\n",
    "10. `mitoses`: Mitoses 1-10  \n",
    "\n",
    "**Target:**  \n",
    "\n",
    "11. `class`: Class 2 for benign, 4 for malignant\n",
    "\n",
    "**Class distribution:**\n",
    "\n",
    "Benign: 458 (65.5%)  \n",
    "Malignant: 241 (34.5%)\n",
    "\n",
    "**Missing attribute values:**\n",
    "\n",
    "16; denoted by \"`?`\"\n",
    "\n",
    "\n",
    "\n"
   ]
  },
  {
   "cell_type": "code",
   "execution_count": 1,
   "id": "012669d3-c6ae-44ea-a282-d6df7f6f032c",
   "metadata": {},
   "outputs": [
    {
     "data": {
      "text/plain": [
       "'C:\\\\Users\\\\vrsom\\\\Documents\\\\Breast_Cancer_Classification\\\\tumor-classification'"
      ]
     },
     "execution_count": 1,
     "metadata": {},
     "output_type": "execute_result"
    }
   ],
   "source": [
    "import os\n",
    "os.chdir('C:\\\\Users\\\\vrsom\\\\Documents\\\\Breast_Cancer_Classification\\\\tumor-classification\\\\') \n",
    "os.getcwd() "
   ]
  },
  {
   "cell_type": "markdown",
   "id": "b3773160-2b04-4755-b988-c8a6fca258e9",
   "metadata": {},
   "source": [
    "## Data cleaning and preprocessing"
   ]
  },
  {
   "cell_type": "code",
   "execution_count": 2,
   "id": "3706fd19-5524-4b55-999c-568e09cc1c71",
   "metadata": {},
   "outputs": [
    {
     "data": {
      "text/html": [
       "<div>\n",
       "<style scoped>\n",
       "    .dataframe tbody tr th:only-of-type {\n",
       "        vertical-align: middle;\n",
       "    }\n",
       "\n",
       "    .dataframe tbody tr th {\n",
       "        vertical-align: top;\n",
       "    }\n",
       "\n",
       "    .dataframe thead th {\n",
       "        text-align: right;\n",
       "    }\n",
       "</style>\n",
       "<table border=\"1\" class=\"dataframe\">\n",
       "  <thead>\n",
       "    <tr style=\"text-align: right;\">\n",
       "      <th></th>\n",
       "      <th>id</th>\n",
       "      <th>clump_thickness</th>\n",
       "      <th>size_uniformity</th>\n",
       "      <th>shape_uniformity</th>\n",
       "      <th>marginal_adhesion</th>\n",
       "      <th>epithelial_size</th>\n",
       "      <th>bare_nucleoli</th>\n",
       "      <th>bland_chromatin</th>\n",
       "      <th>normal_nucleoli</th>\n",
       "      <th>mitoses</th>\n",
       "      <th>class</th>\n",
       "    </tr>\n",
       "  </thead>\n",
       "  <tbody>\n",
       "    <tr>\n",
       "      <th>0</th>\n",
       "      <td>1000025</td>\n",
       "      <td>5</td>\n",
       "      <td>1</td>\n",
       "      <td>1</td>\n",
       "      <td>1</td>\n",
       "      <td>2</td>\n",
       "      <td>1</td>\n",
       "      <td>3</td>\n",
       "      <td>1</td>\n",
       "      <td>1</td>\n",
       "      <td>2</td>\n",
       "    </tr>\n",
       "    <tr>\n",
       "      <th>1</th>\n",
       "      <td>1002945</td>\n",
       "      <td>5</td>\n",
       "      <td>4</td>\n",
       "      <td>4</td>\n",
       "      <td>5</td>\n",
       "      <td>7</td>\n",
       "      <td>10</td>\n",
       "      <td>3</td>\n",
       "      <td>2</td>\n",
       "      <td>1</td>\n",
       "      <td>2</td>\n",
       "    </tr>\n",
       "    <tr>\n",
       "      <th>2</th>\n",
       "      <td>1015425</td>\n",
       "      <td>3</td>\n",
       "      <td>1</td>\n",
       "      <td>1</td>\n",
       "      <td>1</td>\n",
       "      <td>2</td>\n",
       "      <td>2</td>\n",
       "      <td>3</td>\n",
       "      <td>1</td>\n",
       "      <td>1</td>\n",
       "      <td>2</td>\n",
       "    </tr>\n",
       "    <tr>\n",
       "      <th>3</th>\n",
       "      <td>1016277</td>\n",
       "      <td>6</td>\n",
       "      <td>8</td>\n",
       "      <td>8</td>\n",
       "      <td>1</td>\n",
       "      <td>3</td>\n",
       "      <td>4</td>\n",
       "      <td>3</td>\n",
       "      <td>7</td>\n",
       "      <td>1</td>\n",
       "      <td>2</td>\n",
       "    </tr>\n",
       "    <tr>\n",
       "      <th>4</th>\n",
       "      <td>1017023</td>\n",
       "      <td>4</td>\n",
       "      <td>1</td>\n",
       "      <td>1</td>\n",
       "      <td>3</td>\n",
       "      <td>2</td>\n",
       "      <td>1</td>\n",
       "      <td>3</td>\n",
       "      <td>1</td>\n",
       "      <td>1</td>\n",
       "      <td>2</td>\n",
       "    </tr>\n",
       "  </tbody>\n",
       "</table>\n",
       "</div>"
      ],
      "text/plain": [
       "        id  clump_thickness  size_uniformity  shape_uniformity  \\\n",
       "0  1000025                5                1                 1   \n",
       "1  1002945                5                4                 4   \n",
       "2  1015425                3                1                 1   \n",
       "3  1016277                6                8                 8   \n",
       "4  1017023                4                1                 1   \n",
       "\n",
       "   marginal_adhesion  epithelial_size bare_nucleoli  bland_chromatin  \\\n",
       "0                  1                2             1                3   \n",
       "1                  5                7            10                3   \n",
       "2                  1                2             2                3   \n",
       "3                  1                3             4                3   \n",
       "4                  3                2             1                3   \n",
       "\n",
       "   normal_nucleoli  mitoses  class  \n",
       "0                1        1      2  \n",
       "1                2        1      2  \n",
       "2                1        1      2  \n",
       "3                7        1      2  \n",
       "4                1        1      2  "
      ]
     },
     "execution_count": 2,
     "metadata": {},
     "output_type": "execute_result"
    }
   ],
   "source": [
    "import pandas as pd\n",
    "import os\n",
    "\n",
    "df = pd.read_csv('breastCancer.csv')\n",
    "df.head()"
   ]
  },
  {
   "cell_type": "markdown",
   "id": "0a588aea-f06f-471a-9526-965321173419",
   "metadata": {},
   "source": [
    "Find missing values:"
   ]
  },
  {
   "cell_type": "code",
   "execution_count": 3,
   "id": "c2bc15da-ec40-47fb-baf2-7f24b7c755fd",
   "metadata": {},
   "outputs": [
    {
     "data": {
      "text/plain": [
       "id                    0\n",
       "clump_thickness       0\n",
       "size_uniformity       0\n",
       "shape_uniformity      0\n",
       "marginal_adhesion     0\n",
       "epithelial_size       0\n",
       "bare_nucleoli        16\n",
       "bland_chromatin       0\n",
       "normal_nucleoli       0\n",
       "mitoses               0\n",
       "class                 0\n",
       "dtype: int64"
      ]
     },
     "execution_count": 3,
     "metadata": {},
     "output_type": "execute_result"
    }
   ],
   "source": [
    "mask = df=='?'\n",
    "mask.sum()"
   ]
  },
  {
   "cell_type": "markdown",
   "id": "1b7d97a7-8548-48b0-a85b-be2d4d523dcf",
   "metadata": {},
   "source": [
    "Change 16 missing values in `bare_nucleoli` to NaN:"
   ]
  },
  {
   "cell_type": "code",
   "execution_count": 4,
   "id": "a2dc8ac8-5550-4ab8-a7f6-426e76fe6d85",
   "metadata": {},
   "outputs": [],
   "source": [
    "df[mask]=float('NaN')"
   ]
  },
  {
   "cell_type": "markdown",
   "id": "ffb604c5-baa7-4639-a371-09bf144c8573",
   "metadata": {},
   "source": [
    "Show info:"
   ]
  },
  {
   "cell_type": "code",
   "execution_count": 5,
   "id": "a35f7167-97cf-438e-85cb-5d5b4885e3cb",
   "metadata": {},
   "outputs": [
    {
     "name": "stdout",
     "output_type": "stream",
     "text": [
      "<class 'pandas.core.frame.DataFrame'>\n",
      "RangeIndex: 699 entries, 0 to 698\n",
      "Data columns (total 11 columns):\n",
      " #   Column             Non-Null Count  Dtype \n",
      "---  ------             --------------  ----- \n",
      " 0   id                 699 non-null    int64 \n",
      " 1   clump_thickness    699 non-null    int64 \n",
      " 2   size_uniformity    699 non-null    int64 \n",
      " 3   shape_uniformity   699 non-null    int64 \n",
      " 4   marginal_adhesion  699 non-null    int64 \n",
      " 5   epithelial_size    699 non-null    int64 \n",
      " 6   bare_nucleoli      683 non-null    object\n",
      " 7   bland_chromatin    699 non-null    int64 \n",
      " 8   normal_nucleoli    699 non-null    int64 \n",
      " 9   mitoses            699 non-null    int64 \n",
      " 10  class              699 non-null    int64 \n",
      "dtypes: int64(10), object(1)\n",
      "memory usage: 60.2+ KB\n",
      "None\n"
     ]
    }
   ],
   "source": [
    "print(df.info())"
   ]
  },
  {
   "cell_type": "markdown",
   "id": "b1d40d52-0325-496f-8146-0da761554186",
   "metadata": {},
   "source": [
    "Delete rows with NaNs and change all data types to int:"
   ]
  },
  {
   "cell_type": "code",
   "execution_count": 6,
   "id": "281c0fc4-b9d5-4a03-874f-596eada2eead",
   "metadata": {},
   "outputs": [],
   "source": [
    "df = df.dropna()\n",
    "df = df.astype('int64')"
   ]
  },
  {
   "cell_type": "markdown",
   "id": "4f4e106f-7b06-4d4e-83f9-a51ba4ad0e84",
   "metadata": {},
   "source": [
    "Change classes to `False` (benign) and `True` (malignant) instead of 2 and 4:"
   ]
  },
  {
   "cell_type": "code",
   "execution_count": 7,
   "id": "ab7f896d-11c1-45de-a932-ce22a02dc29a",
   "metadata": {},
   "outputs": [
    {
     "data": {
      "text/plain": [
       "0      False\n",
       "1      False\n",
       "2      False\n",
       "3      False\n",
       "4      False\n",
       "       ...  \n",
       "694    False\n",
       "695    False\n",
       "696     True\n",
       "697     True\n",
       "698     True\n",
       "Name: class, Length: 683, dtype: bool"
      ]
     },
     "metadata": {},
     "output_type": "display_data"
    }
   ],
   "source": [
    "df.loc[:,'class'] = df.loc[:,'class']==4\n",
    "display(df.loc[:,'class'])"
   ]
  },
  {
   "cell_type": "code",
   "execution_count": 8,
   "id": "03e5b51a-62db-439e-8533-e99aa6b86b50",
   "metadata": {},
   "outputs": [
    {
     "name": "stdout",
     "output_type": "stream",
     "text": [
      "<class 'pandas.core.frame.DataFrame'>\n",
      "Int64Index: 683 entries, 0 to 698\n",
      "Data columns (total 11 columns):\n",
      " #   Column             Non-Null Count  Dtype\n",
      "---  ------             --------------  -----\n",
      " 0   id                 683 non-null    int64\n",
      " 1   clump_thickness    683 non-null    int64\n",
      " 2   size_uniformity    683 non-null    int64\n",
      " 3   shape_uniformity   683 non-null    int64\n",
      " 4   marginal_adhesion  683 non-null    int64\n",
      " 5   epithelial_size    683 non-null    int64\n",
      " 6   bare_nucleoli      683 non-null    int64\n",
      " 7   bland_chromatin    683 non-null    int64\n",
      " 8   normal_nucleoli    683 non-null    int64\n",
      " 9   mitoses            683 non-null    int64\n",
      " 10  class              683 non-null    bool \n",
      "dtypes: bool(1), int64(10)\n",
      "memory usage: 59.4 KB\n"
     ]
    }
   ],
   "source": [
    "df.info()"
   ]
  },
  {
   "cell_type": "markdown",
   "id": "943c2c8a-92f1-45e9-aa3e-2bb11009b991",
   "metadata": {},
   "source": [
    "Check means, range etc.:"
   ]
  },
  {
   "cell_type": "code",
   "execution_count": 9,
   "id": "f927f07b-b7b8-4921-a6ae-ad968dfd3c74",
   "metadata": {},
   "outputs": [
    {
     "name": "stdout",
     "output_type": "stream",
     "text": [
      "       clump_thickness  size_uniformity  shape_uniformity  marginal_adhesion  \\\n",
      "count       683.000000       683.000000        683.000000         683.000000   \n",
      "mean          4.442167         3.150805          3.215227           2.830161   \n",
      "std           2.820761         3.065145          2.988581           2.864562   \n",
      "min           1.000000         1.000000          1.000000           1.000000   \n",
      "25%           2.000000         1.000000          1.000000           1.000000   \n",
      "50%           4.000000         1.000000          1.000000           1.000000   \n",
      "75%           6.000000         5.000000          5.000000           4.000000   \n",
      "max          10.000000        10.000000         10.000000          10.000000   \n",
      "\n",
      "       epithelial_size  bare_nucleoli  bland_chromatin  normal_nucleoli  \\\n",
      "count       683.000000     683.000000       683.000000       683.000000   \n",
      "mean          3.234261       3.544656         3.445095         2.869693   \n",
      "std           2.223085       3.643857         2.449697         3.052666   \n",
      "min           1.000000       1.000000         1.000000         1.000000   \n",
      "25%           2.000000       1.000000         2.000000         1.000000   \n",
      "50%           2.000000       1.000000         3.000000         1.000000   \n",
      "75%           4.000000       6.000000         5.000000         4.000000   \n",
      "max          10.000000      10.000000        10.000000        10.000000   \n",
      "\n",
      "          mitoses  \n",
      "count  683.000000  \n",
      "mean     1.603221  \n",
      "std      1.732674  \n",
      "min      1.000000  \n",
      "25%      1.000000  \n",
      "50%      1.000000  \n",
      "75%      1.000000  \n",
      "max     10.000000  \n"
     ]
    }
   ],
   "source": [
    "print(df.drop('id',axis=1).describe())"
   ]
  },
  {
   "cell_type": "markdown",
   "id": "a38cd120-a715-4869-b514-8731bda1cf06",
   "metadata": {},
   "source": [
    "I don't see anything unusual. Now, the data set has no missing or impossible values. "
   ]
  },
  {
   "cell_type": "markdown",
   "id": "9cd22658-21cf-4f38-9ba8-25ea9648fb63",
   "metadata": {},
   "source": [
    "## Splitting data"
   ]
  },
  {
   "cell_type": "markdown",
   "id": "b2f5b673-77eb-404a-8a5e-96b99997d5c3",
   "metadata": {},
   "source": [
    "First, randomly separate 30% of the data points into a validation data set. This is important to validate the classifier on **independent** data later on."
   ]
  },
  {
   "cell_type": "code",
   "execution_count": 10,
   "id": "ee21b032-4b89-4e0d-bc6d-434c39297c7f",
   "metadata": {},
   "outputs": [],
   "source": [
    "from sklearn.model_selection import train_test_split\n",
    "\n",
    "df_train, df_val = train_test_split(df,test_size=0.3,random_state=1)"
   ]
  },
  {
   "cell_type": "markdown",
   "id": "a22af857-d848-4630-9bb0-6ba1805d339f",
   "metadata": {},
   "source": [
    "Now separate feature matrix and target vector:"
   ]
  },
  {
   "cell_type": "code",
   "execution_count": 11,
   "id": "ece1ce83-e60a-47c8-9b24-c3e5196e48b8",
   "metadata": {},
   "outputs": [
    {
     "data": {
      "text/html": [
       "<div>\n",
       "<style scoped>\n",
       "    .dataframe tbody tr th:only-of-type {\n",
       "        vertical-align: middle;\n",
       "    }\n",
       "\n",
       "    .dataframe tbody tr th {\n",
       "        vertical-align: top;\n",
       "    }\n",
       "\n",
       "    .dataframe thead th {\n",
       "        text-align: right;\n",
       "    }\n",
       "</style>\n",
       "<table border=\"1\" class=\"dataframe\">\n",
       "  <thead>\n",
       "    <tr style=\"text-align: right;\">\n",
       "      <th></th>\n",
       "      <th>clump_thickness</th>\n",
       "      <th>size_uniformity</th>\n",
       "      <th>shape_uniformity</th>\n",
       "      <th>marginal_adhesion</th>\n",
       "      <th>epithelial_size</th>\n",
       "      <th>bare_nucleoli</th>\n",
       "      <th>bland_chromatin</th>\n",
       "      <th>normal_nucleoli</th>\n",
       "      <th>mitoses</th>\n",
       "    </tr>\n",
       "  </thead>\n",
       "  <tbody>\n",
       "    <tr>\n",
       "      <th>631</th>\n",
       "      <td>5</td>\n",
       "      <td>1</td>\n",
       "      <td>1</td>\n",
       "      <td>1</td>\n",
       "      <td>2</td>\n",
       "      <td>1</td>\n",
       "      <td>2</td>\n",
       "      <td>1</td>\n",
       "      <td>1</td>\n",
       "    </tr>\n",
       "    <tr>\n",
       "      <th>633</th>\n",
       "      <td>8</td>\n",
       "      <td>7</td>\n",
       "      <td>4</td>\n",
       "      <td>4</td>\n",
       "      <td>5</td>\n",
       "      <td>3</td>\n",
       "      <td>5</td>\n",
       "      <td>10</td>\n",
       "      <td>1</td>\n",
       "    </tr>\n",
       "    <tr>\n",
       "      <th>203</th>\n",
       "      <td>5</td>\n",
       "      <td>1</td>\n",
       "      <td>1</td>\n",
       "      <td>1</td>\n",
       "      <td>2</td>\n",
       "      <td>1</td>\n",
       "      <td>3</td>\n",
       "      <td>1</td>\n",
       "      <td>1</td>\n",
       "    </tr>\n",
       "    <tr>\n",
       "      <th>42</th>\n",
       "      <td>6</td>\n",
       "      <td>10</td>\n",
       "      <td>10</td>\n",
       "      <td>2</td>\n",
       "      <td>8</td>\n",
       "      <td>10</td>\n",
       "      <td>7</td>\n",
       "      <td>3</td>\n",
       "      <td>3</td>\n",
       "    </tr>\n",
       "    <tr>\n",
       "      <th>571</th>\n",
       "      <td>7</td>\n",
       "      <td>6</td>\n",
       "      <td>10</td>\n",
       "      <td>5</td>\n",
       "      <td>3</td>\n",
       "      <td>10</td>\n",
       "      <td>9</td>\n",
       "      <td>10</td>\n",
       "      <td>2</td>\n",
       "    </tr>\n",
       "    <tr>\n",
       "      <th>...</th>\n",
       "      <td>...</td>\n",
       "      <td>...</td>\n",
       "      <td>...</td>\n",
       "      <td>...</td>\n",
       "      <td>...</td>\n",
       "      <td>...</td>\n",
       "      <td>...</td>\n",
       "      <td>...</td>\n",
       "      <td>...</td>\n",
       "    </tr>\n",
       "    <tr>\n",
       "      <th>148</th>\n",
       "      <td>3</td>\n",
       "      <td>1</td>\n",
       "      <td>1</td>\n",
       "      <td>3</td>\n",
       "      <td>8</td>\n",
       "      <td>1</td>\n",
       "      <td>5</td>\n",
       "      <td>8</td>\n",
       "      <td>1</td>\n",
       "    </tr>\n",
       "    <tr>\n",
       "      <th>661</th>\n",
       "      <td>4</td>\n",
       "      <td>1</td>\n",
       "      <td>1</td>\n",
       "      <td>1</td>\n",
       "      <td>2</td>\n",
       "      <td>1</td>\n",
       "      <td>3</td>\n",
       "      <td>1</td>\n",
       "      <td>1</td>\n",
       "    </tr>\n",
       "    <tr>\n",
       "      <th>74</th>\n",
       "      <td>10</td>\n",
       "      <td>6</td>\n",
       "      <td>4</td>\n",
       "      <td>1</td>\n",
       "      <td>3</td>\n",
       "      <td>4</td>\n",
       "      <td>3</td>\n",
       "      <td>2</td>\n",
       "      <td>3</td>\n",
       "    </tr>\n",
       "    <tr>\n",
       "      <th>242</th>\n",
       "      <td>2</td>\n",
       "      <td>1</td>\n",
       "      <td>1</td>\n",
       "      <td>1</td>\n",
       "      <td>2</td>\n",
       "      <td>1</td>\n",
       "      <td>3</td>\n",
       "      <td>1</td>\n",
       "      <td>1</td>\n",
       "    </tr>\n",
       "    <tr>\n",
       "      <th>38</th>\n",
       "      <td>5</td>\n",
       "      <td>4</td>\n",
       "      <td>4</td>\n",
       "      <td>9</td>\n",
       "      <td>2</td>\n",
       "      <td>10</td>\n",
       "      <td>5</td>\n",
       "      <td>6</td>\n",
       "      <td>1</td>\n",
       "    </tr>\n",
       "  </tbody>\n",
       "</table>\n",
       "<p>478 rows × 9 columns</p>\n",
       "</div>"
      ],
      "text/plain": [
       "     clump_thickness  size_uniformity  shape_uniformity  marginal_adhesion  \\\n",
       "631                5                1                 1                  1   \n",
       "633                8                7                 4                  4   \n",
       "203                5                1                 1                  1   \n",
       "42                 6               10                10                  2   \n",
       "571                7                6                10                  5   \n",
       "..               ...              ...               ...                ...   \n",
       "148                3                1                 1                  3   \n",
       "661                4                1                 1                  1   \n",
       "74                10                6                 4                  1   \n",
       "242                2                1                 1                  1   \n",
       "38                 5                4                 4                  9   \n",
       "\n",
       "     epithelial_size  bare_nucleoli  bland_chromatin  normal_nucleoli  mitoses  \n",
       "631                2              1                2                1        1  \n",
       "633                5              3                5               10        1  \n",
       "203                2              1                3                1        1  \n",
       "42                 8             10                7                3        3  \n",
       "571                3             10                9               10        2  \n",
       "..               ...            ...              ...              ...      ...  \n",
       "148                8              1                5                8        1  \n",
       "661                2              1                3                1        1  \n",
       "74                 3              4                3                2        3  \n",
       "242                2              1                3                1        1  \n",
       "38                 2             10                5                6        1  \n",
       "\n",
       "[478 rows x 9 columns]"
      ]
     },
     "metadata": {},
     "output_type": "display_data"
    },
    {
     "data": {
      "text/plain": [
       "631    False\n",
       "633     True\n",
       "203    False\n",
       "42      True\n",
       "571     True\n",
       "       ...  \n",
       "148    False\n",
       "661    False\n",
       "74      True\n",
       "242    False\n",
       "38      True\n",
       "Name: class, Length: 478, dtype: bool"
      ]
     },
     "metadata": {},
     "output_type": "display_data"
    }
   ],
   "source": [
    "features_train = df_train.drop(['id','class'],axis=1)\n",
    "features_val = df_val.drop(['id','class'],axis=1)\n",
    "\n",
    "target_train = df_train.loc[:,'class']\n",
    "target_val = df_val.loc[:,'class']\n",
    "\n",
    "display(features_train)\n",
    "display(target_train)"
   ]
  },
  {
   "cell_type": "markdown",
   "id": "9dc620ad-1d0d-4d3d-afa0-17910f0ede33",
   "metadata": {},
   "source": [
    "## Check for correlations among features and reduce dimensions with Principal Component Analysis (PCA)"
   ]
  },
  {
   "cell_type": "code",
   "execution_count": 12,
   "id": "2a6ba343-d591-4948-8348-f11112acaac9",
   "metadata": {},
   "outputs": [
    {
     "data": {
      "text/html": [
       "<div>\n",
       "<style scoped>\n",
       "    .dataframe tbody tr th:only-of-type {\n",
       "        vertical-align: middle;\n",
       "    }\n",
       "\n",
       "    .dataframe tbody tr th {\n",
       "        vertical-align: top;\n",
       "    }\n",
       "\n",
       "    .dataframe thead th {\n",
       "        text-align: right;\n",
       "    }\n",
       "</style>\n",
       "<table border=\"1\" class=\"dataframe\">\n",
       "  <thead>\n",
       "    <tr style=\"text-align: right;\">\n",
       "      <th></th>\n",
       "      <th>clump_thickness</th>\n",
       "      <th>size_uniformity</th>\n",
       "      <th>shape_uniformity</th>\n",
       "      <th>marginal_adhesion</th>\n",
       "      <th>epithelial_size</th>\n",
       "      <th>bare_nucleoli</th>\n",
       "      <th>bland_chromatin</th>\n",
       "      <th>normal_nucleoli</th>\n",
       "      <th>mitoses</th>\n",
       "    </tr>\n",
       "  </thead>\n",
       "  <tbody>\n",
       "    <tr>\n",
       "      <th>clump_thickness</th>\n",
       "      <td>1.000000</td>\n",
       "      <td>0.635755</td>\n",
       "      <td>0.650366</td>\n",
       "      <td>0.507064</td>\n",
       "      <td>0.524288</td>\n",
       "      <td>0.609916</td>\n",
       "      <td>0.557279</td>\n",
       "      <td>0.554315</td>\n",
       "      <td>0.366344</td>\n",
       "    </tr>\n",
       "    <tr>\n",
       "      <th>size_uniformity</th>\n",
       "      <td>0.635755</td>\n",
       "      <td>1.000000</td>\n",
       "      <td>0.917607</td>\n",
       "      <td>0.711849</td>\n",
       "      <td>0.748319</td>\n",
       "      <td>0.707644</td>\n",
       "      <td>0.763875</td>\n",
       "      <td>0.743973</td>\n",
       "      <td>0.490808</td>\n",
       "    </tr>\n",
       "    <tr>\n",
       "      <th>shape_uniformity</th>\n",
       "      <td>0.650366</td>\n",
       "      <td>0.917607</td>\n",
       "      <td>1.000000</td>\n",
       "      <td>0.692717</td>\n",
       "      <td>0.711943</td>\n",
       "      <td>0.718284</td>\n",
       "      <td>0.725238</td>\n",
       "      <td>0.737787</td>\n",
       "      <td>0.470340</td>\n",
       "    </tr>\n",
       "    <tr>\n",
       "      <th>marginal_adhesion</th>\n",
       "      <td>0.507064</td>\n",
       "      <td>0.711849</td>\n",
       "      <td>0.692717</td>\n",
       "      <td>1.000000</td>\n",
       "      <td>0.592563</td>\n",
       "      <td>0.716376</td>\n",
       "      <td>0.676607</td>\n",
       "      <td>0.607801</td>\n",
       "      <td>0.394772</td>\n",
       "    </tr>\n",
       "    <tr>\n",
       "      <th>epithelial_size</th>\n",
       "      <td>0.524288</td>\n",
       "      <td>0.748319</td>\n",
       "      <td>0.711943</td>\n",
       "      <td>0.592563</td>\n",
       "      <td>1.000000</td>\n",
       "      <td>0.576429</td>\n",
       "      <td>0.611069</td>\n",
       "      <td>0.672823</td>\n",
       "      <td>0.506416</td>\n",
       "    </tr>\n",
       "    <tr>\n",
       "      <th>bare_nucleoli</th>\n",
       "      <td>0.609916</td>\n",
       "      <td>0.707644</td>\n",
       "      <td>0.718284</td>\n",
       "      <td>0.716376</td>\n",
       "      <td>0.576429</td>\n",
       "      <td>1.000000</td>\n",
       "      <td>0.678199</td>\n",
       "      <td>0.574645</td>\n",
       "      <td>0.362370</td>\n",
       "    </tr>\n",
       "    <tr>\n",
       "      <th>bland_chromatin</th>\n",
       "      <td>0.557279</td>\n",
       "      <td>0.763875</td>\n",
       "      <td>0.725238</td>\n",
       "      <td>0.676607</td>\n",
       "      <td>0.611069</td>\n",
       "      <td>0.678199</td>\n",
       "      <td>1.000000</td>\n",
       "      <td>0.679565</td>\n",
       "      <td>0.350437</td>\n",
       "    </tr>\n",
       "    <tr>\n",
       "      <th>normal_nucleoli</th>\n",
       "      <td>0.554315</td>\n",
       "      <td>0.743973</td>\n",
       "      <td>0.737787</td>\n",
       "      <td>0.607801</td>\n",
       "      <td>0.672823</td>\n",
       "      <td>0.574645</td>\n",
       "      <td>0.679565</td>\n",
       "      <td>1.000000</td>\n",
       "      <td>0.443686</td>\n",
       "    </tr>\n",
       "    <tr>\n",
       "      <th>mitoses</th>\n",
       "      <td>0.366344</td>\n",
       "      <td>0.490808</td>\n",
       "      <td>0.470340</td>\n",
       "      <td>0.394772</td>\n",
       "      <td>0.506416</td>\n",
       "      <td>0.362370</td>\n",
       "      <td>0.350437</td>\n",
       "      <td>0.443686</td>\n",
       "      <td>1.000000</td>\n",
       "    </tr>\n",
       "  </tbody>\n",
       "</table>\n",
       "</div>"
      ],
      "text/plain": [
       "                   clump_thickness  size_uniformity  shape_uniformity  \\\n",
       "clump_thickness           1.000000         0.635755          0.650366   \n",
       "size_uniformity           0.635755         1.000000          0.917607   \n",
       "shape_uniformity          0.650366         0.917607          1.000000   \n",
       "marginal_adhesion         0.507064         0.711849          0.692717   \n",
       "epithelial_size           0.524288         0.748319          0.711943   \n",
       "bare_nucleoli             0.609916         0.707644          0.718284   \n",
       "bland_chromatin           0.557279         0.763875          0.725238   \n",
       "normal_nucleoli           0.554315         0.743973          0.737787   \n",
       "mitoses                   0.366344         0.490808          0.470340   \n",
       "\n",
       "                   marginal_adhesion  epithelial_size  bare_nucleoli  \\\n",
       "clump_thickness             0.507064         0.524288       0.609916   \n",
       "size_uniformity             0.711849         0.748319       0.707644   \n",
       "shape_uniformity            0.692717         0.711943       0.718284   \n",
       "marginal_adhesion           1.000000         0.592563       0.716376   \n",
       "epithelial_size             0.592563         1.000000       0.576429   \n",
       "bare_nucleoli               0.716376         0.576429       1.000000   \n",
       "bland_chromatin             0.676607         0.611069       0.678199   \n",
       "normal_nucleoli             0.607801         0.672823       0.574645   \n",
       "mitoses                     0.394772         0.506416       0.362370   \n",
       "\n",
       "                   bland_chromatin  normal_nucleoli   mitoses  \n",
       "clump_thickness           0.557279         0.554315  0.366344  \n",
       "size_uniformity           0.763875         0.743973  0.490808  \n",
       "shape_uniformity          0.725238         0.737787  0.470340  \n",
       "marginal_adhesion         0.676607         0.607801  0.394772  \n",
       "epithelial_size           0.611069         0.672823  0.506416  \n",
       "bare_nucleoli             0.678199         0.574645  0.362370  \n",
       "bland_chromatin           1.000000         0.679565  0.350437  \n",
       "normal_nucleoli           0.679565         1.000000  0.443686  \n",
       "mitoses                   0.350437         0.443686  1.000000  "
      ]
     },
     "metadata": {},
     "output_type": "display_data"
    },
    {
     "name": "stdout",
     "output_type": "stream",
     "text": [
      "p = 2.942751174831744e-15\n"
     ]
    },
    {
     "data": {
      "image/png": "[encoded data removed]",
      "text/plain": [
       "<Figure size 1080x576 with 2 Axes>"
      ]
     },
     "metadata": {},
     "output_type": "display_data"
    }
   ],
   "source": [
    "import seaborn as sns\n",
    "import numpy as np\n",
    "from scipy.stats import pearsonr\n",
    "\n",
    "# Correlation matrix\n",
    "corr = features_train.corr()\n",
    "display(corr)\n",
    "\n",
    "# Heatmap of all pairwise correlations\n",
    "sns.set(rc={'figure.figsize':(15,8)})\n",
    "sns.heatmap(corr, mask=np.triu(np.ones_like(corr, dtype=bool)), vmin=-1, vmax=1, annot=True, cmap='RdBu_r');\n",
    "\n",
    "r,p = pearsonr(features_train.loc[:,'mitoses'],features_train.loc[:,'bland_chromatin'])\n",
    "print('p = {}'.format(p))"
   ]
  },
  {
   "cell_type": "markdown",
   "id": "9f396e81-8ca5-4538-abe4-44f508c75ff5",
   "metadata": {},
   "source": [
    "The features show to be highly correlated to each other. Even the smallest correlation (between mitoses and bland_chromatin) is highly significant; see p-value. This means the features are not independent.\n",
    "\n",
    "To have independent features, I use an **Principal Component Ananlysis (PCA)** reducing the dimensions.  \n",
    "I define a pipeline `corr_transformer` that standardizes the data and computes a PCA including all columns except those specified in `keep_cols`. Because all features are correlated, I do not keep any of the original features, thus, `keep_cols` is empty here. For the PCA, I define that it should keep at least 80% of the variance in the data. Finally I fit and apply the pipeline on the training data."
   ]
  },
  {
   "cell_type": "code",
   "execution_count": 13,
   "id": "02c003f1-95f4-4196-84af-819f308a1370",
   "metadata": {},
   "outputs": [
    {
     "data": {
      "text/plain": [
       "(478, 3)"
      ]
     },
     "execution_count": 13,
     "metadata": {},
     "output_type": "execute_result"
    }
   ],
   "source": [
    "from sklearn.compose import ColumnTransformer\n",
    "from sklearn.pipeline import Pipeline\n",
    "from sklearn.preprocessing import StandardScaler\n",
    "from sklearn.decomposition import PCA\n",
    "\n",
    "# if I wanted to leave out a feature from the PCA (e.g. mitoses because \n",
    "# it is less correlated to the others --> yields similar classification accuracy)\n",
    "keep_cols = [] \n",
    "\n",
    "# features that are highly correlated\n",
    "col_correlated = features_train.drop(keep_cols,axis=1).columns\n",
    "    \n",
    "# standardization + PCA (dimensionality reduction, keeping min. 80% of variance)\n",
    "std_pca = Pipeline([('std', StandardScaler()), \n",
    "                    ('pca', PCA(n_components=0.8))\n",
    "                   ])\n",
    "\n",
    "# do nothing with keep_cols, drop rest (none in this case)\n",
    "col_dropper = ColumnTransformer([('drop_unused_cols', 'passthrough', keep_cols)],\n",
    "                                remainder='drop'\n",
    "                               )\n",
    "    \n",
    "# PCA on cor_correlated only\n",
    "corr_transformer = ColumnTransformer([('pca', std_pca, col_correlated)],\n",
    "                                     remainder=col_dropper\n",
    "                                    )\n",
    "\n",
    "# fit & transform\n",
    "arr = corr_transformer.fit_transform(features_train)\n",
    "arr.shape"
   ]
  },
  {
   "cell_type": "markdown",
   "id": "0a37c009-b7f3-433a-a697-cdb5b86d0a67",
   "metadata": {},
   "source": [
    "The output from the transformation is an array with the columns representing the identified principal components. That means 7 features were reduced to 3 in this case.\n",
    "\n",
    "I turn the array into a dataframe `features_train_pca` and transform the validation data in the same way (`features_val_pca`):"
   ]
  },
  {
   "cell_type": "code",
   "execution_count": 14,
   "id": "90a646d2-b9ae-431f-bdf2-fd591f2b128b",
   "metadata": {},
   "outputs": [
    {
     "data": {
      "text/html": [
       "<div>\n",
       "<style scoped>\n",
       "    .dataframe tbody tr th:only-of-type {\n",
       "        vertical-align: middle;\n",
       "    }\n",
       "\n",
       "    .dataframe tbody tr th {\n",
       "        vertical-align: top;\n",
       "    }\n",
       "\n",
       "    .dataframe thead th {\n",
       "        text-align: right;\n",
       "    }\n",
       "</style>\n",
       "<table border=\"1\" class=\"dataframe\">\n",
       "  <thead>\n",
       "    <tr style=\"text-align: right;\">\n",
       "      <th></th>\n",
       "      <th>pca_0</th>\n",
       "      <th>pca_1</th>\n",
       "      <th>pca_2</th>\n",
       "    </tr>\n",
       "  </thead>\n",
       "  <tbody>\n",
       "    <tr>\n",
       "      <th>0</th>\n",
       "      <td>-1.607496</td>\n",
       "      <td>0.009278</td>\n",
       "      <td>-0.638855</td>\n",
       "    </tr>\n",
       "    <tr>\n",
       "      <th>1</th>\n",
       "      <td>2.271799</td>\n",
       "      <td>-0.371072</td>\n",
       "      <td>-0.001566</td>\n",
       "    </tr>\n",
       "    <tr>\n",
       "      <th>2</th>\n",
       "      <td>-1.467713</td>\n",
       "      <td>-0.091419</td>\n",
       "      <td>-0.553935</td>\n",
       "    </tr>\n",
       "    <tr>\n",
       "      <th>3</th>\n",
       "      <td>3.834433</td>\n",
       "      <td>0.215161</td>\n",
       "      <td>0.120485</td>\n",
       "    </tr>\n",
       "    <tr>\n",
       "      <th>4</th>\n",
       "      <td>3.958294</td>\n",
       "      <td>-1.112170</td>\n",
       "      <td>0.201717</td>\n",
       "    </tr>\n",
       "    <tr>\n",
       "      <th>...</th>\n",
       "      <td>...</td>\n",
       "      <td>...</td>\n",
       "      <td>...</td>\n",
       "    </tr>\n",
       "    <tr>\n",
       "      <th>473</th>\n",
       "      <td>0.540240</td>\n",
       "      <td>0.407648</td>\n",
       "      <td>1.481363</td>\n",
       "    </tr>\n",
       "    <tr>\n",
       "      <th>474</th>\n",
       "      <td>-1.573993</td>\n",
       "      <td>-0.050177</td>\n",
       "      <td>-0.246815</td>\n",
       "    </tr>\n",
       "    <tr>\n",
       "      <th>475</th>\n",
       "      <td>0.890899</td>\n",
       "      <td>0.552171</td>\n",
       "      <td>-2.011536</td>\n",
       "    </tr>\n",
       "    <tr>\n",
       "      <th>476</th>\n",
       "      <td>-1.786554</td>\n",
       "      <td>0.032307</td>\n",
       "      <td>0.367426</td>\n",
       "    </tr>\n",
       "    <tr>\n",
       "      <th>477</th>\n",
       "      <td>1.900140</td>\n",
       "      <td>-1.480159</td>\n",
       "      <td>0.434778</td>\n",
       "    </tr>\n",
       "  </tbody>\n",
       "</table>\n",
       "<p>478 rows × 3 columns</p>\n",
       "</div>"
      ],
      "text/plain": [
       "        pca_0     pca_1     pca_2\n",
       "0   -1.607496  0.009278 -0.638855\n",
       "1    2.271799 -0.371072 -0.001566\n",
       "2   -1.467713 -0.091419 -0.553935\n",
       "3    3.834433  0.215161  0.120485\n",
       "4    3.958294 -1.112170  0.201717\n",
       "..        ...       ...       ...\n",
       "473  0.540240  0.407648  1.481363\n",
       "474 -1.573993 -0.050177 -0.246815\n",
       "475  0.890899  0.552171 -2.011536\n",
       "476 -1.786554  0.032307  0.367426\n",
       "477  1.900140 -1.480159  0.434778\n",
       "\n",
       "[478 rows x 3 columns]"
      ]
     },
     "metadata": {},
     "output_type": "display_data"
    }
   ],
   "source": [
    "# transform training- and validation data\n",
    "col_names = ['pca_0','pca_1','pca_2'] + keep_cols\n",
    "features_train_pca = pd.DataFrame(arr, columns=col_names)\n",
    "features_val_pca = pd.DataFrame(corr_transformer.transform(features_val), columns=col_names)\n",
    "display(features_train_pca)"
   ]
  },
  {
   "cell_type": "markdown",
   "id": "2f9435a5-0f71-4c1c-949f-703feae4e89e",
   "metadata": {},
   "source": [
    "Checking for correlations again shows that the new features are independent:"
   ]
  },
  {
   "cell_type": "code",
   "execution_count": 15,
   "id": "865087d3-077f-4f6f-9e16-0a4a311d9e43",
   "metadata": {},
   "outputs": [
    {
     "data": {
      "text/plain": [
       "<AxesSubplot:>"
      ]
     },
     "execution_count": 15,
     "metadata": {},
     "output_type": "execute_result"
    },
    {
     "data": {
      "image/png": "[encoded data removed]",
      "text/plain": [
       "<Figure size 1080x576 with 2 Axes>"
      ]
     },
     "metadata": {},
     "output_type": "display_data"
    }
   ],
   "source": [
    "# correlation \n",
    "sns.set(rc={'figure.figsize':(15,8)})\n",
    "sns.heatmap(features_train_pca.corr(), mask=np.triu(np.ones_like(features_train_pca.corr(), dtype=bool)), vmin=-1, vmax=1, annot=True, cmap='RdBu_r')"
   ]
  },
  {
   "cell_type": "markdown",
   "id": "ce348c3e-8cbe-41c4-aa58-a3505a7e9283",
   "metadata": {},
   "source": [
    "## Building the Artificial Neural Network (ANN)\n",
    "\n",
    "Now I build the feedforward ANN. I define 5 hidden layers, each with 50 nodes (\"neurons\") and a rectified linear unit (ReLu) activation function. An activation function transforms the summed weighted input from the node into the activation (output) of the node. The ReLu activation function is a suitable choice for hidden layers; it outputs the summed weighted input directly if it is positive, otherwise, it outputs zero. \n",
    "The first hidden layer receives the dimensions of the features (i.e., 3), that make up the input layer. The output layer contains 1 node and a sigmoid activation function, which is appropriate for classification tasks."
   ]
  },
  {
   "cell_type": "code",
   "execution_count": 22,
   "id": "5f2d7e16-b61d-4b60-a359-e723d95e5ac7",
   "metadata": {},
   "outputs": [],
   "source": [
    "# ANN with early stopping\n",
    "from tensorflow.keras import Sequential\n",
    "from tensorflow.keras.layers import Dense\n",
    "from tensorflow.keras.callbacks import EarlyStopping\n",
    "import matplotlib.pyplot as plt\n",
    "\n",
    "model_ann = Sequential()\n",
    "\n",
    "# define hidden layers\n",
    "hidden_first = Dense(units=50, activation='relu', input_dim=features_train_pca.shape[1])\n",
    "hidden_second = Dense(units=50, activation='relu')\n",
    "hidden_third = Dense(units=50, activation='relu')\n",
    "hidden_fourth = Dense(units=50, activation='relu')\n",
    "hidden_fifth = Dense(units=50, activation='relu')\n",
    "\n",
    "# define output layer\n",
    "output_layer  = Dense(units=1, activation='sigmoid')\n",
    "\n",
    "# add 5 hidden layers with 50 units\n",
    "model_ann.add(hidden_first)\n",
    "model_ann.add(hidden_second)\n",
    "model_ann.add(hidden_third)\n",
    "model_ann.add(hidden_fourth)\n",
    "model_ann.add(hidden_fifth)\n",
    "\n",
    "# add output layer\n",
    "model_ann.add(output_layer)"
   ]
  },
  {
   "cell_type": "markdown",
   "id": "d9d433ad-0e9c-4819-a4b2-45cf9f187df6",
   "metadata": {},
   "source": [
    "Then I compile the model and add an early stopping mechanism that stops the training when a monitored metric is not improving anymore. In this way, unnecessary computing time and overfitting can be prevented.\n",
    "\n",
    "For the compilation of the model, I choose an optimizer and a loss function. The loss function specifies the quantity that a model should seek to minimize during training. Binary cross-entropy is a good choice for binary classifications based on probabilities. The optimizer is the algorithm that changes the weights to reduce the loss. The Adam algorithm is often used because of its robust results, computationally efficiency, and little memory requirement.\n",
    "\n",
    "Finally I fit the model on the training data and validate the classification accuracy on the validation data. The training needs several iterations (epochs) because the weights are optimized stepwise, however, too many iterations can lead to overfitting. Therefore, I specify that the training stops when the validation accuracy does not change more than 0.001 within 3 epochs. "
   ]
  },
  {
   "cell_type": "code",
   "execution_count": 23,
   "id": "c1ef1af8-0c7a-40b5-80bb-847ef8a26f62",
   "metadata": {},
   "outputs": [
    {
     "name": "stdout",
     "output_type": "stream",
     "text": [
      "Epoch 1/200\n",
      "8/8 [==============================] - 1s 38ms/step - loss: 0.5915 - accuracy: 0.8159 - val_loss: 0.4893 - val_accuracy: 0.9366\n",
      "Epoch 2/200\n",
      "8/8 [==============================] - 0s 8ms/step - loss: 0.4101 - accuracy: 0.9665 - val_loss: 0.3043 - val_accuracy: 0.9659\n",
      "Epoch 3/200\n",
      "8/8 [==============================] - 0s 9ms/step - loss: 0.2351 - accuracy: 0.9707 - val_loss: 0.1564 - val_accuracy: 0.9707\n",
      "Epoch 4/200\n",
      "8/8 [==============================] - 0s 9ms/step - loss: 0.1252 - accuracy: 0.9686 - val_loss: 0.0851 - val_accuracy: 0.9756\n",
      "Epoch 5/200\n",
      "8/8 [==============================] - 0s 10ms/step - loss: 0.0804 - accuracy: 0.9707 - val_loss: 0.0680 - val_accuracy: 0.9805\n",
      "Epoch 6/200\n",
      "8/8 [==============================] - 0s 10ms/step - loss: 0.0744 - accuracy: 0.9707 - val_loss: 0.0697 - val_accuracy: 0.9805\n",
      "Epoch 7/200\n",
      "8/8 [==============================] - 0s 7ms/step - loss: 0.0753 - accuracy: 0.9707 - val_loss: 0.0712 - val_accuracy: 0.9805\n",
      "Epoch 8/200\n",
      "8/8 [==============================] - 0s 8ms/step - loss: 0.0737 - accuracy: 0.9707 - val_loss: 0.0700 - val_accuracy: 0.9805\n"
     ]
    }
   ],
   "source": [
    "# compile model\n",
    "model_ann.compile(optimizer='adam', loss='binary_crossentropy', metrics=['accuracy'])\n",
    "\n",
    "early_stop = EarlyStopping(monitor='val_accuracy', min_delta=0.001, patience=3)\n",
    "\n",
    "# train model using early stopping\n",
    "hist_ann = model_ann.fit(features_train_pca, target_train,\n",
    "                         epochs=200, batch_size=64,\n",
    "                         callbacks=[early_stop],\n",
    "                         validation_data=(features_val_pca, target_val))"
   ]
  },
  {
   "cell_type": "markdown",
   "id": "9025c89c-3c95-4440-8c44-fd10ded2bcd3",
   "metadata": {},
   "source": [
    "After a few epochs, the training stops at a validation accuracy of >98% (exact value can vary)."
   ]
  },
  {
   "cell_type": "code",
   "execution_count": 24,
   "id": "b712855a-9ba2-44ae-8113-5337c656d208",
   "metadata": {},
   "outputs": [
    {
     "data": {
      "image/png": "[encoded data removed]",
      "text/plain": [
       "<Figure size 1080x504 with 2 Axes>"
      ]
     },
     "metadata": {},
     "output_type": "display_data"
    }
   ],
   "source": [
    "# illustrate \n",
    "x = range(1,len(hist_ann.history['loss'])+1)\n",
    "\n",
    "fig, (ax1,ax2) = plt.subplots(1,2, figsize=(15,7))  \n",
    "ax1.plot(x, hist_ann.history['loss'])\n",
    "ax1.plot(x, hist_ann.history['val_loss'])\n",
    "ax1.set_title('Loss')\n",
    "ax1.legend(['Training', 'Validation'])\n",
    "ax1.set(ylabel='Loss', xlabel='Epoch', xticks=x)\n",
    "#plt.xticks([x])\n",
    "\n",
    "ax2.plot(x, hist_ann.history['accuracy'])\n",
    "ax2.plot(x, hist_ann.history['val_accuracy'])\n",
    "ax2.set_title('Accuracy')\n",
    "ax2.legend(['Training', 'Validation'])\n",
    "ax2.set(ylabel='Accuracy', xlabel='Epoch', xticks=x);"
   ]
  },
  {
   "cell_type": "markdown",
   "id": "4eec8b11-f716-4360-b1ef-41df93824a80",
   "metadata": {},
   "source": [
    "For me, the graphs look like this:\n",
    "![graphs](graphs.jpg)"
   ]
  },
  {
   "cell_type": "markdown",
   "id": "85d00985-86e5-4bf9-9389-2d05656b0f82",
   "metadata": {},
   "source": [
    "The graphs show that the training stopped after 9 epochs because the validation accuracy did not change much anymore. With every training iteration, the loss is reduced and converges for the training and validation data. A divergence, on the contrary, would indicate overfitting. "
   ]
  },
  {
   "cell_type": "markdown",
   "id": "ac4ce155-d553-4297-bd33-e60666df85bb",
   "metadata": {},
   "source": [
    "## Result\n",
    "\n",
    "By reducing the dimensionality of the features and training a deep, feedforward ANN, **the tumors can be classified as malignant or benign with an accuracy of ca. 98%**.  \n",
    "\n",
    "## Notes / Alternatives\n",
    "\n",
    "Accuracy is the number of correctly predicted data points (i.e., both malignant and benign) out of all the data points. If it was more important to correctly classify either malignant or benign tumors, one may want to use another validation metric instead. \n",
    "\n",
    "Because the features (tumor specifications) were highly correlated, I used a PCA to reduce the dimensions and replace the original features by orthogonal components. This results in a high accuracy for classifying tumors. However, based on the components, it is now hard to say what features and values were important for the classification. In general, ANNs are so-called blackbox algorithms, whose results are relatively hard to interpret. An alternative approach would be a binary classification tree or random forest, which generally offer more straightforward interpretability. "
   ]
  }
 ],
 "metadata": {
  "kernelspec": {
   "display_name": "Python 3 (ipykernel)",
   "language": "python",
   "name": "python3"
  },
  "language_info": {
   "codemirror_mode": {
    "name": "ipython",
    "version": 3
   },
   "file_extension": ".py",
   "mimetype": "text/x-python",
   "name": "python",
   "nbconvert_exporter": "python",
   "pygments_lexer": "ipython3",
   "version": "3.8.8"
  }
 },
 "nbformat": 4,
 "nbformat_minor": 5
}
